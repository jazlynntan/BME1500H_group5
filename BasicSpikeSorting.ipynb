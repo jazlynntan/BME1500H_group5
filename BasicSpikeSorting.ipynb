{
 "cells": [
  {
   "cell_type": "markdown",
   "metadata": {},
   "source": [
    "### For filtering, spike detection and sorting to obtain single unit activity (discard MUAs)"
   ]
  },
  {
   "cell_type": "code",
   "execution_count": null,
   "metadata": {},
   "outputs": [],
   "source": [
    "import pandas as pd\n",
    "import os\n",
    "import numpy as np\n",
    "from scipy.signal import find_peaks, butter, filtfilt\n",
    "from sklearn.decomposition import PCA\n",
    "from sklearn.cluster import KMeans\n",
    "import matplotlib.pyplot as plt"
   ]
  },
  {
   "cell_type": "markdown",
   "metadata": {},
   "source": [
    "#### Filtering"
   ]
  },
  {
   "cell_type": "code",
   "execution_count": null,
   "metadata": {},
   "outputs": [],
   "source": [
    "# change no need wrapper... use filtfilt\n",
    "\n",
    "# Apply a bandpass filter to isolate the frequency range of interest\n",
    "lowcut = 300  # Low cutoff frequency in Hz\n",
    "highcut = 6000  # High cutoff frequency in Hz\n",
    "fs = 30000  # Sampling frequency in Hz\n",
    "\n",
    "def butter_bandpass(lowcut, highcut, fs, order=4):\n",
    "    nyquist = 0.5 * fs\n",
    "    low = lowcut / nyquist\n",
    "    high = highcut / nyquist\n",
    "    b, a = butter(order, [low, high], btype='band')\n",
    "    return b, a\n",
    "\n",
    "def butter_bandpass_filter(data, lowcut, highcut, fs, order=4):\n",
    "    b, a = butter_bandpass(lowcut, highcut, fs, order=order)\n",
    "    y = lfilter(b, a, data)\n",
    "    return y\n",
    "\n",
    "filtered_data = butter_bandpass_filter(data, lowcut, highcut, fs)"
   ]
  },
  {
   "cell_type": "markdown",
   "metadata": {},
   "source": [
    "#### find peaks"
   ]
  },
  {
   "cell_type": "code",
   "execution_count": null,
   "metadata": {},
   "outputs": [],
   "source": [
    "# Find peaks in the filtered data above a certain threshold\n",
    "threshold = 3.0  # Adjust this threshold as needed\n",
    "spike_peaks, _ = find_peaks(filtered_data, height=threshold)"
   ]
  },
  {
   "cell_type": "markdown",
   "metadata": {},
   "source": [
    "#### waveforms and clustering"
   ]
  },
  {
   "cell_type": "code",
   "execution_count": null,
   "metadata": {},
   "outputs": [],
   "source": [
    "window_size = 30  # Adjust as needed\n",
    "spike_waveforms = []\n",
    "for peak in spike_peaks:\n",
    "    if peak - window_size >= 0 and peak + window_size < len(filtered_data):\n",
    "        spike_waveforms.append(filtered_data[peak - window_size: peak + window_size])\n",
    "spike_waveforms = np.array(spike_waveforms)\n",
    "\n",
    "# Apply PCA for dimensionality reduction\n",
    "n_components = 3  # Adjust as needed\n",
    "pca = PCA(n_components=n_components)\n",
    "waveform_features = pca.fit_transform(spike_waveforms)\n",
    "\n",
    "# Cluster the waveforms using K-means\n",
    "n_clusters = 4  # Adjust as needed\n",
    "kmeans = KMeans(n_clusters=n_clusters, random_state=0)\n",
    "cluster_labels = kmeans.fit_predict(waveform_features)"
   ]
  },
  {
   "cell_type": "markdown",
   "metadata": {},
   "source": [
    "#### Viz"
   ]
  },
  {
   "cell_type": "code",
   "execution_count": null,
   "metadata": {},
   "outputs": [],
   "source": [
    "# Visualize the clustered waveforms\n",
    "for i in range(n_clusters):\n",
    "    cluster_waveforms = spike_waveforms[cluster_labels == i]\n",
    "    mean_waveform = np.mean(cluster_waveforms, axis=0)\n",
    "    plt.plot(mean_waveform, label=f'Cluster {i + 1}')\n",
    "\n",
    "plt.xlabel('Time (samples)')\n",
    "plt.ylabel('Amplitude')\n",
    "plt.legend()\n",
    "plt.show()"
   ]
  }
 ],
 "metadata": {
  "kernelspec": {
   "display_name": "base",
   "language": "python",
   "name": "python3"
  },
  "language_info": {
   "name": "python",
   "version": "3.9.18"
  }
 },
 "nbformat": 4,
 "nbformat_minor": 2
}
